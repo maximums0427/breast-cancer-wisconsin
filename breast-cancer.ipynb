{
 "metadata": {
  "name": "",
  "signature": "sha256:51abbc3928f833f273f23bdb8895f4df2aa2ff939f4e48abe138f2b600ce3a0b"
 },
 "nbformat": 3,
 "nbformat_minor": 0,
 "worksheets": [
  {
   "cells": [
    {
     "cell_type": "code",
     "collapsed": false,
     "input": [
      "import pandas as pd\n",
      "import numpy as np\n",
      "\n",
      "df = pd.read_csv('http://archive.ics.uci.edu/ml/machine-learning-databases/breast-cancer-wisconsin/wdbc.data',header = None)\n",
      "df.head()"
     ],
     "language": "python",
     "metadata": {},
     "outputs": [
      {
       "html": [
        "<div style=\"max-height:1000px;max-width:1500px;overflow:auto;\">\n",
        "<table border=\"1\" class=\"dataframe\">\n",
        "  <thead>\n",
        "    <tr style=\"text-align: right;\">\n",
        "      <th></th>\n",
        "      <th>0</th>\n",
        "      <th>1</th>\n",
        "      <th>2</th>\n",
        "      <th>3</th>\n",
        "      <th>4</th>\n",
        "      <th>5</th>\n",
        "      <th>6</th>\n",
        "      <th>7</th>\n",
        "      <th>8</th>\n",
        "      <th>9</th>\n",
        "      <th>...</th>\n",
        "      <th>22</th>\n",
        "      <th>23</th>\n",
        "      <th>24</th>\n",
        "      <th>25</th>\n",
        "      <th>26</th>\n",
        "      <th>27</th>\n",
        "      <th>28</th>\n",
        "      <th>29</th>\n",
        "      <th>30</th>\n",
        "      <th>31</th>\n",
        "    </tr>\n",
        "  </thead>\n",
        "  <tbody>\n",
        "    <tr>\n",
        "      <th>0</th>\n",
        "      <td>   842302</td>\n",
        "      <td> M</td>\n",
        "      <td> 17.99</td>\n",
        "      <td> 10.38</td>\n",
        "      <td> 122.80</td>\n",
        "      <td> 1001.0</td>\n",
        "      <td> 0.11840</td>\n",
        "      <td> 0.27760</td>\n",
        "      <td> 0.3001</td>\n",
        "      <td> 0.14710</td>\n",
        "      <td>...</td>\n",
        "      <td> 25.38</td>\n",
        "      <td> 17.33</td>\n",
        "      <td> 184.60</td>\n",
        "      <td> 2019.0</td>\n",
        "      <td> 0.1622</td>\n",
        "      <td> 0.6656</td>\n",
        "      <td> 0.7119</td>\n",
        "      <td> 0.2654</td>\n",
        "      <td> 0.4601</td>\n",
        "      <td> 0.11890</td>\n",
        "    </tr>\n",
        "    <tr>\n",
        "      <th>1</th>\n",
        "      <td>   842517</td>\n",
        "      <td> M</td>\n",
        "      <td> 20.57</td>\n",
        "      <td> 17.77</td>\n",
        "      <td> 132.90</td>\n",
        "      <td> 1326.0</td>\n",
        "      <td> 0.08474</td>\n",
        "      <td> 0.07864</td>\n",
        "      <td> 0.0869</td>\n",
        "      <td> 0.07017</td>\n",
        "      <td>...</td>\n",
        "      <td> 24.99</td>\n",
        "      <td> 23.41</td>\n",
        "      <td> 158.80</td>\n",
        "      <td> 1956.0</td>\n",
        "      <td> 0.1238</td>\n",
        "      <td> 0.1866</td>\n",
        "      <td> 0.2416</td>\n",
        "      <td> 0.1860</td>\n",
        "      <td> 0.2750</td>\n",
        "      <td> 0.08902</td>\n",
        "    </tr>\n",
        "    <tr>\n",
        "      <th>2</th>\n",
        "      <td> 84300903</td>\n",
        "      <td> M</td>\n",
        "      <td> 19.69</td>\n",
        "      <td> 21.25</td>\n",
        "      <td> 130.00</td>\n",
        "      <td> 1203.0</td>\n",
        "      <td> 0.10960</td>\n",
        "      <td> 0.15990</td>\n",
        "      <td> 0.1974</td>\n",
        "      <td> 0.12790</td>\n",
        "      <td>...</td>\n",
        "      <td> 23.57</td>\n",
        "      <td> 25.53</td>\n",
        "      <td> 152.50</td>\n",
        "      <td> 1709.0</td>\n",
        "      <td> 0.1444</td>\n",
        "      <td> 0.4245</td>\n",
        "      <td> 0.4504</td>\n",
        "      <td> 0.2430</td>\n",
        "      <td> 0.3613</td>\n",
        "      <td> 0.08758</td>\n",
        "    </tr>\n",
        "    <tr>\n",
        "      <th>3</th>\n",
        "      <td> 84348301</td>\n",
        "      <td> M</td>\n",
        "      <td> 11.42</td>\n",
        "      <td> 20.38</td>\n",
        "      <td>  77.58</td>\n",
        "      <td>  386.1</td>\n",
        "      <td> 0.14250</td>\n",
        "      <td> 0.28390</td>\n",
        "      <td> 0.2414</td>\n",
        "      <td> 0.10520</td>\n",
        "      <td>...</td>\n",
        "      <td> 14.91</td>\n",
        "      <td> 26.50</td>\n",
        "      <td>  98.87</td>\n",
        "      <td>  567.7</td>\n",
        "      <td> 0.2098</td>\n",
        "      <td> 0.8663</td>\n",
        "      <td> 0.6869</td>\n",
        "      <td> 0.2575</td>\n",
        "      <td> 0.6638</td>\n",
        "      <td> 0.17300</td>\n",
        "    </tr>\n",
        "    <tr>\n",
        "      <th>4</th>\n",
        "      <td> 84358402</td>\n",
        "      <td> M</td>\n",
        "      <td> 20.29</td>\n",
        "      <td> 14.34</td>\n",
        "      <td> 135.10</td>\n",
        "      <td> 1297.0</td>\n",
        "      <td> 0.10030</td>\n",
        "      <td> 0.13280</td>\n",
        "      <td> 0.1980</td>\n",
        "      <td> 0.10430</td>\n",
        "      <td>...</td>\n",
        "      <td> 22.54</td>\n",
        "      <td> 16.67</td>\n",
        "      <td> 152.20</td>\n",
        "      <td> 1575.0</td>\n",
        "      <td> 0.1374</td>\n",
        "      <td> 0.2050</td>\n",
        "      <td> 0.4000</td>\n",
        "      <td> 0.1625</td>\n",
        "      <td> 0.2364</td>\n",
        "      <td> 0.07678</td>\n",
        "    </tr>\n",
        "  </tbody>\n",
        "</table>\n",
        "<p>5 rows \u00d7 32 columns</p>\n",
        "</div>"
       ],
       "metadata": {},
       "output_type": "pyout",
       "prompt_number": 4,
       "text": [
        "         0  1      2      3       4       5        6        7       8   \\\n",
        "0    842302  M  17.99  10.38  122.80  1001.0  0.11840  0.27760  0.3001   \n",
        "1    842517  M  20.57  17.77  132.90  1326.0  0.08474  0.07864  0.0869   \n",
        "2  84300903  M  19.69  21.25  130.00  1203.0  0.10960  0.15990  0.1974   \n",
        "3  84348301  M  11.42  20.38   77.58   386.1  0.14250  0.28390  0.2414   \n",
        "4  84358402  M  20.29  14.34  135.10  1297.0  0.10030  0.13280  0.1980   \n",
        "\n",
        "        9    ...        22     23      24      25      26      27      28  \\\n",
        "0  0.14710   ...     25.38  17.33  184.60  2019.0  0.1622  0.6656  0.7119   \n",
        "1  0.07017   ...     24.99  23.41  158.80  1956.0  0.1238  0.1866  0.2416   \n",
        "2  0.12790   ...     23.57  25.53  152.50  1709.0  0.1444  0.4245  0.4504   \n",
        "3  0.10520   ...     14.91  26.50   98.87   567.7  0.2098  0.8663  0.6869   \n",
        "4  0.10430   ...     22.54  16.67  152.20  1575.0  0.1374  0.2050  0.4000   \n",
        "\n",
        "       29      30       31  \n",
        "0  0.2654  0.4601  0.11890  \n",
        "1  0.1860  0.2750  0.08902  \n",
        "2  0.2430  0.3613  0.08758  \n",
        "3  0.2575  0.6638  0.17300  \n",
        "4  0.1625  0.2364  0.07678  \n",
        "\n",
        "[5 rows x 32 columns]"
       ]
      }
     ],
     "prompt_number": 4
    },
    {
     "cell_type": "code",
     "collapsed": false,
     "input": [
      "df.iloc[:,1].value_counts()"
     ],
     "language": "python",
     "metadata": {},
     "outputs": [
      {
       "metadata": {},
       "output_type": "pyout",
       "prompt_number": 16,
       "text": [
        "B    357\n",
        "M    212\n",
        "dtype: int64"
       ]
      }
     ],
     "prompt_number": 16
    },
    {
     "cell_type": "code",
     "collapsed": false,
     "input": [
      "#separate label and features\n",
      "X = df.values[:,2:]\n",
      "y = df.values[:,1]\n",
      "from sklearn.preprocessing import LabelEncoder\n",
      "le = LabelEncoder()\n",
      "y = le.fit_transform(y)"
     ],
     "language": "python",
     "metadata": {},
     "outputs": [],
     "prompt_number": 52
    },
    {
     "cell_type": "code",
     "collapsed": false,
     "input": [
      "#standardize X\n",
      "from sklearn.preprocessing import StandardScaler\n",
      "stdsc = StandardScaler()\n",
      "X = stdsc.fit_transform(X)"
     ],
     "language": "python",
     "metadata": {},
     "outputs": [
      {
       "output_type": "stream",
       "stream": "stderr",
       "text": [
        "/home/max/.local/lib/python2.7/site-packages/sklearn/utils/validation.py:420: DataConversionWarning: Data with input dtype object was converted to float64 by StandardScaler.\n",
        "  warnings.warn(msg, DataConversionWarning)\n",
        "/home/max/.local/lib/python2.7/site-packages/sklearn/utils/validation.py:420: DataConversionWarning: Data with input dtype object was converted to float64 by StandardScaler.\n",
        "  warnings.warn(msg, DataConversionWarning)\n"
       ]
      }
     ],
     "prompt_number": 53
    },
    {
     "cell_type": "code",
     "collapsed": false,
     "input": [
      "#separate to test and train\n",
      "from sklearn.cross_validation import train_test_split\n",
      "X_train, X_test,y_train, y_test = train_test_split(X,y,test_size=0.2, random_state=12)"
     ],
     "language": "python",
     "metadata": {},
     "outputs": [],
     "prompt_number": 54
    },
    {
     "cell_type": "code",
     "collapsed": false,
     "input": [
      "#let's evaluate features using random forest\n",
      "from sklearn.ensemble import RandomForestClassifier\n",
      "forest = RandomForestClassifier(n_estimators=1000, random_state = 0, n_jobs = -1)\n",
      "forest.fit(X_train,y_train)\n",
      "importances = forest.feature_importances_"
     ],
     "language": "python",
     "metadata": {},
     "outputs": [],
     "prompt_number": 55
    },
    {
     "cell_type": "code",
     "collapsed": false,
     "input": [
      "sorted(importances,reverse = True)"
     ],
     "language": "python",
     "metadata": {},
     "outputs": [
      {
       "metadata": {},
       "output_type": "pyout",
       "prompt_number": 56,
       "text": [
        "[0.1358174317895198,\n",
        " 0.12770638366600612,\n",
        " 0.12240688213793313,\n",
        " 0.10463449914806576,\n",
        " 0.093901189029849272,\n",
        " 0.05508765603297526,\n",
        " 0.051723516968533778,\n",
        " 0.051575767416179356,\n",
        " 0.042478608208023343,\n",
        " 0.031851122942849051,\n",
        " 0.026703479377069173,\n",
        " 0.015354329232007656,\n",
        " 0.014002149054047364,\n",
        " 0.013341701178383378,\n",
        " 0.012848425023311646,\n",
        " 0.012753247051944236,\n",
        " 0.012393500862269544,\n",
        " 0.011889246342144014,\n",
        " 0.010817830759110454,\n",
        " 0.0068239338662710097,\n",
        " 0.0063615273090729509,\n",
        " 0.0060725565937146163,\n",
        " 0.0057822284022276743,\n",
        " 0.0048347865246859741,\n",
        " 0.0042914398397772991,\n",
        " 0.0040557788997038777,\n",
        " 0.0040167355514033323,\n",
        " 0.0036528543213206355,\n",
        " 0.0034460304896139372,\n",
        " 0.0033751619819862677]"
       ]
      }
     ],
     "prompt_number": 56
    },
    {
     "cell_type": "code",
     "collapsed": false,
     "input": [
      "X_train_selected = forest.transform(X_train,threshold = 0.01)\n",
      "X_train_selected.shape\n",
      "X_test_selected = forest.transform(X_test,threshold = 0.01)"
     ],
     "language": "python",
     "metadata": {},
     "outputs": [
      {
       "output_type": "stream",
       "stream": "stderr",
       "text": [
        "/home/max/.local/lib/python2.7/site-packages/sklearn/utils/__init__.py:93: DeprecationWarning: Function transform is deprecated; Support to use estimators as feature selectors will be removed in version 0.19. Use SelectFromModel instead.\n",
        "  warnings.warn(msg, category=DeprecationWarning)\n",
        "/home/max/.local/lib/python2.7/site-packages/sklearn/utils/__init__.py:93: DeprecationWarning: Function transform is deprecated; Support to use estimators as feature selectors will be removed in version 0.19. Use SelectFromModel instead.\n",
        "  warnings.warn(msg, category=DeprecationWarning)\n"
       ]
      }
     ],
     "prompt_number": 64
    },
    {
     "cell_type": "code",
     "collapsed": false,
     "input": [
      "X_train_selected.shape"
     ],
     "language": "python",
     "metadata": {},
     "outputs": [
      {
       "metadata": {},
       "output_type": "pyout",
       "prompt_number": 65,
       "text": [
        "(455, 19)"
       ]
      }
     ],
     "prompt_number": 65
    },
    {
     "cell_type": "code",
     "collapsed": false,
     "input": [
      "from sklearn.linear_model import LogisticRegression\n",
      "val = [1000, 100, 1, 0.1]\n",
      "for c in val:\n",
      "    clf = LogisticRegression(C = c)\n",
      "    clf.fit(X_train_selected,y_train)\n",
      "    print clf.score(X_test_selected,y_test)"
     ],
     "language": "python",
     "metadata": {},
     "outputs": [
      {
       "output_type": "stream",
       "stream": "stdout",
       "text": [
        "0.982456140351\n",
        "0.982456140351\n",
        "0.964912280702\n",
        "0.964912280702\n"
       ]
      }
     ],
     "prompt_number": 70
    },
    {
     "cell_type": "code",
     "collapsed": false,
     "input": [
      "from sklearn.ensemble import RandomForestClassifier\n",
      "clf = RandomForestClassifier(n_estimators=1000, n_jobs = -1)\n",
      "clf.fit(X_train,y_train)\n",
      "clf.score(X_test,y_test)"
     ],
     "language": "python",
     "metadata": {},
     "outputs": [
      {
       "metadata": {},
       "output_type": "pyout",
       "prompt_number": 67,
       "text": [
        "0.92982456140350878"
       ]
      }
     ],
     "prompt_number": 67
    },
    {
     "cell_type": "code",
     "collapsed": false,
     "input": [
      "import xgboost as xgb"
     ],
     "language": "python",
     "metadata": {},
     "outputs": [],
     "prompt_number": 43
    },
    {
     "cell_type": "code",
     "collapsed": false,
     "input": [
      "d = [4,5,6,7,8]\n",
      "for i in d:\n",
      "    clf = "
     ],
     "language": "python",
     "metadata": {},
     "outputs": []
    }
   ],
   "metadata": {}
  }
 ]
}